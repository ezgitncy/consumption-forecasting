{
  "nbformat": 4,
  "nbformat_minor": 0,
  "metadata": {
    "colab": {
      "provenance": [],
      "authorship_tag": "ABX9TyMyx71sgCFkewAo9UyFDoK9",
      "include_colab_link": true
    },
    "kernelspec": {
      "name": "python3",
      "display_name": "Python 3"
    },
    "language_info": {
      "name": "python"
    }
  },
  "cells": [
    {
      "cell_type": "markdown",
      "metadata": {
        "id": "view-in-github",
        "colab_type": "text"
      },
      "source": [
        "<a href=\"https://colab.research.google.com/github/ezgitncy/consumption-forecasting/blob/main/firstmodel_energy.ipynb\" target=\"_parent\"><img src=\"https://colab.research.google.com/assets/colab-badge.svg\" alt=\"Open In Colab\"/></a>"
      ]
    },
    {
      "cell_type": "code",
      "execution_count": 3,
      "metadata": {
        "id": "60RlIE_PiCwJ",
        "colab": {
          "base_uri": "https://localhost:8080/"
        },
        "outputId": "8c3d3283-a507-4f64-ad86-37169018976e"
      },
      "outputs": [
        {
          "output_type": "stream",
          "name": "stdout",
          "text": [
            "Reading package lists... Done\n",
            "Building dependency tree... Done\n",
            "Reading state information... Done\n",
            "git is already the newest version (1:2.34.1-1ubuntu1.11).\n",
            "0 upgraded, 0 newly installed, 0 to remove and 45 not upgraded.\n"
          ]
        }
      ],
      "source": [
        "!apt-get install git"
      ]
    },
    {
      "cell_type": "code",
      "source": [
        "!git config --global user.email \"tuncayezgi@windowslive.com\"\n",
        "!git config --global user.name \"ezgitncy\""
      ],
      "metadata": {
        "id": "SrRRy4u_ebWd"
      },
      "execution_count": 4,
      "outputs": []
    },
    {
      "cell_type": "code",
      "source": [
        "!git clone https://github.com/ezgitncy/consumption-forecasting.git\n",
        "%cd consumption-forecasting"
      ],
      "metadata": {
        "colab": {
          "base_uri": "https://localhost:8080/"
        },
        "id": "KqY4YF5MemKt",
        "outputId": "020547f9-f2be-4dd1-8ed5-a7658e8882fb"
      },
      "execution_count": 15,
      "outputs": [
        {
          "output_type": "stream",
          "name": "stdout",
          "text": [
            "Cloning into 'consumption-forecasting'...\n",
            "remote: Enumerating objects: 97, done.\u001b[K\n",
            "remote: Total 97 (delta 0), reused 0 (delta 0), pack-reused 97\u001b[K\n",
            "Receiving objects: 100% (97/97), 39.03 MiB | 32.44 MiB/s, done.\n",
            "Resolving deltas: 100% (19/19), done.\n",
            "/content/consumption-forecasting/consumption-forecasting\n"
          ]
        }
      ]
    },
    {
      "cell_type": "code",
      "source": [
        "import os\n",
        "\n",
        "# Create a new folder\n",
        "os.makedirs('data', exist_ok=True)\n",
        "\n",
        "# Create a .gitkeep file in the new folder\n",
        "with open('data/.gitkeep', 'w') as f:\n",
        "    f.write('')\n",
        "\n",
        "# Step 4: Stage and Commit the Changes\n",
        "!git add data/.gitkeep\n",
        "!git commit -m \"Add new folder and .gitkeep file\"\n",
        "!git push\n"
      ],
      "metadata": {
        "colab": {
          "base_uri": "https://localhost:8080/"
        },
        "id": "iYvAKan-iG9t",
        "outputId": "8b46f30b-115f-4f8b-8495-09290b92eb6d"
      },
      "execution_count": 18,
      "outputs": [
        {
          "output_type": "stream",
          "name": "stdout",
          "text": [
            "On branch main\n",
            "Your branch is ahead of 'origin/main' by 1 commit.\n",
            "  (use \"git push\" to publish your local commits)\n",
            "\n",
            "nothing to commit, working tree clean\n",
            "fatal: could not read Username for 'https://github.com': No such device or address\n"
          ]
        }
      ]
    }
  ]
}